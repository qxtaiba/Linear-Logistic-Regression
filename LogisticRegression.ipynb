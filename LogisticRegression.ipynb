{
 "cells": [
  {
   "cell_type": "markdown",
   "metadata": {},
   "source": [
    "# Logistic Regression \n",
    "\n",
    "In the assignment, you will use gradient ascent to find the weights for the logistic regression.   \n",
    "\n",
    "As an example, we will use the widely-used breast cancer data set.  This data set is described here:\n",
    "\n",
    "https://archive.ics.uci.edu/ml/machine-learning-databases/breast-cancer-wisconsin\n"
   ]
  },
  {
   "cell_type": "markdown",
   "metadata": {},
   "source": [
    "## Step 1:  Getting, preprocessing, and understanding the dataset"
   ]
  },
  {
   "cell_type": "markdown",
   "metadata": {},
   "source": [
    "### Importing the standard libraries"
   ]
  },
  {
   "cell_type": "code",
   "execution_count": 1,
   "metadata": {},
   "outputs": [],
   "source": [
    "# Importing important libraries\n",
    "# Import breastcancer dataset\n",
    "# Import preprocessing from sklearn\n",
    "# Import train_test_split from sklearn\n",
    "# Import numpy,math\n",
    "\n",
    "import sklearn\n",
    "import math\n",
    "import numpy as np\n",
    "import pandas as pd\n",
    "import matplotlib.pyplot as plt \n",
    "from sklearn.model_selection import train_test_split\n",
    "from sklearn.datasets import load_breast_cancer\n",
    "from sklearn import preprocessing\n",
    "from sklearn.metrics import confusion_matrix\n",
    "\n"
   ]
  },
  {
   "cell_type": "markdown",
   "metadata": {},
   "source": [
    "### Importing the dataset"
   ]
  },
  {
   "cell_type": "code",
   "execution_count": 2,
   "metadata": {},
   "outputs": [],
   "source": [
    "# Load dataset to a python variable cancer\n",
    "# Store target to a variable called y\n",
    "# Store feature to a variable called X\n",
    "\n",
    "breastData = load_breast_cancer()\n",
    "\n",
    "x = breastData.data\n",
    "y = breastData.target\n"
   ]
  },
  {
   "cell_type": "code",
   "execution_count": 3,
   "metadata": {
    "scrolled": true
   },
   "outputs": [
    {
     "name": "stdout",
     "output_type": "stream",
     "text": [
      "(569, 30)\n",
      "(569,)\n"
     ]
    }
   ],
   "source": [
    "# Printing the shape of data (X) and target (Y) values \n",
    "\n",
    "print(x.shape)\n",
    "print(y.shape)"
   ]
  },
  {
   "cell_type": "markdown",
   "metadata": {},
   "source": [
    "### Data Pre-Processing\n",
    "#### Splitting the data into train and test before scaling the dataset\n"
   ]
  },
  {
   "cell_type": "code",
   "execution_count": 4,
   "metadata": {},
   "outputs": [],
   "source": [
    "# Use train_test_split() function to split the dataset\n",
    "# Store the return value of pervious step to X_train, X_test, y_train, y_test\n",
    "\n",
    "xTrain, xTest, yTrain, yTest = train_test_split(x, y)"
   ]
  },
  {
   "cell_type": "markdown",
   "metadata": {},
   "source": [
    "#### Scale the data since we will be using gradient ascent"
   ]
  },
  {
   "cell_type": "code",
   "execution_count": 5,
   "metadata": {},
   "outputs": [],
   "source": [
    "# Find the scaler of the dataset by using preprocessing.StandardScaler().fit()\n",
    "# Using this scale to scale the X_train and X_test using .transform()\n",
    "\n",
    "scaleVal = preprocessing.StandardScaler().fit(x)\n",
    "xTrain = scaleVal.transform(xTrain)\n",
    "xTest = scaleVal.transform(xTest)\n",
    "\n"
   ]
  },
  {
   "cell_type": "code",
   "execution_count": 6,
   "metadata": {},
   "outputs": [
    {
     "name": "stdout",
     "output_type": "stream",
     "text": [
      "(426, 30)\n",
      "(426,)\n"
     ]
    }
   ],
   "source": [
    "# TODO - Print the shape of x_train and y_train \n",
    "\n",
    "print(xTrain.shape) # It should print (426, 30)\n",
    "print(yTrain.shape) # It should print (426,)\n"
   ]
  },
  {
   "cell_type": "markdown",
   "metadata": {},
   "source": [
    "#### Adding a column of ones to the  matrices $X_{train}$ and  $X_{test}$\n",
    "After adding a column of ones $X_{train}=\\left[\\begin{matrix}\n",
    "1& x^{(1)}_1& x^{(1)}_2 &\\ldots& x^{(1)}_d\\\\\n",
    "1& x^{(2)}_1& x^{(2)}_2 &\\ldots& x^{(2)}_d\\\\\n",
    "\\vdots & \\vdots &\\vdots & & \\vdots \\\\\n",
    "1& x^{(N')}_1& x^{(N')}_2 &\\ldots& x^{(N')}_d\\\\\n",
    "\\end{matrix}\\right]$\n",
    "\n",
    "Similarly for $X_{test}$"
   ]
  },
  {
   "cell_type": "code",
   "execution_count": 7,
   "metadata": {},
   "outputs": [
    {
     "name": "stdout",
     "output_type": "stream",
     "text": [
      "The trainng data has dimensions:  (426, 31) . The testing data has dimensions:  (143, 31)\n",
      "[[ 1.         -1.12392703 -1.02615481 ... -1.35236887  1.06165929\n",
      "  -0.20757752]\n",
      " [ 1.         -1.24662117 -1.70333134 ... -1.74506282  0.33042245\n",
      "  -0.1349828 ]\n",
      " [ 1.         -0.13839777 -0.85860597 ... -0.34086601 -0.5998014\n",
      "  -1.04435637]\n",
      " ...\n",
      " [ 1.          1.54012613  2.20614143 ...  1.21041973 -0.13388059\n",
      "   0.91736357]\n",
      " [ 1.         -0.18384004  0.35612307 ...  1.69310287 -0.15167617\n",
      "   1.28310797]\n",
      " [ 1.          0.16549742  0.53530723 ...  1.04749514  1.28976635\n",
      "   1.41056435]]\n",
      "[[ 1.         -0.33436757 -0.76086916 -0.36366965 -0.4015563   0.29460492\n",
      "  -0.4721     -0.34211437 -0.39256238 -0.297985    0.2696836  -0.70658247\n",
      "  -0.82235759 -0.80940437 -0.49871449  0.56136312 -0.30449397 -0.2832842\n",
      "  -0.07723404  0.69107992  0.35218836 -0.52375102 -0.93589962 -0.54958484\n",
      "  -0.51890617  0.69836738 -0.301944   -0.23070563 -0.13713413  0.77531212\n",
      "   0.65912586]\n",
      " [ 1.         -0.91659667 -1.4729517  -0.95886805 -0.81935497 -1.50943904\n",
      "  -1.27280001 -1.07607798 -1.09188883 -1.34945669 -0.76091455 -0.44527566\n",
      "  -0.82634915 -0.52377171 -0.47957301 -0.29967179 -1.08113501 -0.99665755\n",
      "  -1.33338569 -0.50517569 -0.42738765 -0.80952492 -1.21761938 -0.86948474\n",
      "  -0.7217693  -0.66931243 -1.08986665 -1.21688457 -1.14315542 -0.26330303\n",
      "  -0.39322051]]\n"
     ]
    }
   ],
   "source": [
    "# Append a column of ones to x_train \n",
    "# Create a column vector of ones by using np.ones and reshape\n",
    "# Append a column of ones in the beginning of x_train by using np.hstack\n",
    "\n",
    "rowOnes = np.ones(len(xTrain))\n",
    "colOnes = rowOnes.reshape(-1,1)\n",
    "\n",
    "xTrain = np.hstack((colOnes, xTrain))\n",
    "\n",
    "# Now do the same for the test data\n",
    "\n",
    "rowOnes = np.ones(len(xTest))\n",
    "colOnes = rowOnes.reshape(-1,1)\n",
    "\n",
    "xTest = np.hstack((colOnes, xTest))\n",
    "\n",
    "\n",
    "# We can check that everything worked correctly by printing out the new dimensions:\n",
    "\n",
    "print(\"The trainng data has dimensions: \", xTrain.shape, \". The testing data has dimensions: \",xTest.shape)\n",
    "\n",
    "# Looking at the first two rows of X_train to check everything worked as expected\n",
    "\n",
    "print(xTrain)\n",
    "print(xTest[0:2])\n"
   ]
  },
  {
   "cell_type": "markdown",
   "metadata": {},
   "source": [
    "### Understanding the dataset"
   ]
  },
  {
   "cell_type": "code",
   "execution_count": 8,
   "metadata": {},
   "outputs": [
    {
     "name": "stdout",
     "output_type": "stream",
     "text": [
      "['mean radius' 'mean texture' 'mean perimeter' 'mean area'\n",
      " 'mean smoothness' 'mean compactness' 'mean concavity'\n",
      " 'mean concave points' 'mean symmetry' 'mean fractal dimension'\n",
      " 'radius error' 'texture error' 'perimeter error' 'area error'\n",
      " 'smoothness error' 'compactness error' 'concavity error'\n",
      " 'concave points error' 'symmetry error' 'fractal dimension error'\n",
      " 'worst radius' 'worst texture' 'worst perimeter' 'worst area'\n",
      " 'worst smoothness' 'worst compactness' 'worst concavity'\n",
      " 'worst concave points' 'worst symmetry' 'worst fractal dimension']\n"
     ]
    }
   ],
   "source": [
    "# Printing the names of all the features\n",
    "\n",
    "print(breastData.feature_names)"
   ]
  },
  {
   "cell_type": "code",
   "execution_count": 9,
   "metadata": {},
   "outputs": [],
   "source": [
    "# You can add your own code here to better understand the dataset"
   ]
  },
  {
   "cell_type": "markdown",
   "metadata": {},
   "source": [
    "\n",
    " Before writing the gradient ascent code, first write some helpful functions"
   ]
  },
  {
   "cell_type": "markdown",
   "metadata": {},
   "source": [
    "\n",
    " \n",
    "### Sigmoid($z$)\n",
    "The first function you will write is sigmoid($z$)\n",
    "\n",
    "sigmoid($z$) takes as input a column vector of real numbers, $z^T = [z_1, z_2, ..., z_{N'}]$, where $N'$ is the number of  examples\n",
    "\n",
    "It should produce as output a column vector $\\left[\\frac{1}{1+e^{-z_1}},\\frac{1}{1+e^{-z_2}},...,\\frac{1}{1+e^{-z_{N'}}}\\right]^T$"
   ]
  },
  {
   "cell_type": "code",
   "execution_count": 10,
   "metadata": {},
   "outputs": [],
   "source": [
    "# Write the sigmoid function\n",
    "\n",
    "def sigmoid(z):\n",
    "    \n",
    "    return 1 / (1 + np.exp(-z))\n"
   ]
  },
  {
   "cell_type": "markdown",
   "metadata": {},
   "source": [
    "### Initializing ${\\bf w}$\n",
    "For testing the next functions, we create a coefficient vector, ${\\bf w}$.\n",
    "We will initialize the coeffients to be $0$, i.e. ${\\bf w}^T = [0,0,\\ldots ,0]$ (We could have initialized ${\\bf w}$ to any values.)"
   ]
  },
  {
   "cell_type": "code",
   "execution_count": 11,
   "metadata": {},
   "outputs": [],
   "source": [
    "# Initialize w using np.zeros()\n",
    "\n",
    "wCoefficients = np.zeros((xTrain.shape[1],1))"
   ]
  },
  {
   "cell_type": "markdown",
   "metadata": {},
   "source": [
    "### Our hypothesis, $h({\\bf x})$\n",
    "The next  function to write is our hypothesis function. \n",
    "\n",
    "For example if our design matrix $X$ consists of single example $X=[1,x_1,x_2,\\ldots,x_d]$ and  weights ${\\bf w}^T=[w_0,w_2,\\ldots, w_d]$, it returns $h({\\bf x})=\\frac{1}{1+e^{-\\left({w_{0}\\cdot 1 +w_1\\cdot x_1+\\cdots w_d\\cdot x_d}\\right)}}$\n",
    "\n",
    "If given a  matrix consisting of $N'$ examples \n",
    "$X=\\left[\\begin{matrix}\n",
    "1& x^{(1)}_1& x^{(1)}_2 &\\ldots& x^{(1)}_d\\\\\n",
    "1& x^{(2)}_1& x^{(2)}_2 &\\ldots& x^{(2)}_d\\\\\n",
    "\\vdots & \\vdots &\\vdots & & \\vdots \\\\\n",
    "1& x^{(N')}_1& x^{(N')}_2 &\\ldots& x^{(N')}_d\\\\\n",
    "\\end{matrix}\\right]$\n",
    "and  weights ${\\bf w}^T=[w_0,w_2,\\ldots, w_d]$, the function returns a column vector\n",
    "$[h({\\bf x}^{(1)}),h({\\bf x}^{(2)},\\ldots, h({\\bf x}^{(N')}]^T$"
   ]
  },
  {
   "cell_type": "code",
   "execution_count": 12,
   "metadata": {},
   "outputs": [],
   "source": [
    "# Predict the probability that a patient has cancer \n",
    "# Write the hypothesis function \n",
    "def hypothesis(xTrain, wCoefficients): #xTrain??\n",
    "\n",
    "    return sigmoid(np.dot(xTrain,wCoefficients)) \n",
    "\n"
   ]
  },
  {
   "cell_type": "markdown",
   "metadata": {},
   "source": [
    "### Log-Likelihood Function.\n",
    "Write the code to calculate the log likelihood function $\\ell({\\bf w})=\n",
    "\\sum_{i=1}^{N'}y^{(i)}\\ln(h({\\bf x}^{(i)})) +(1- y^{(i)})\\ln(1-h({\\bf x}^{(i)}))$\n",
    "\n",
    "The input is a matrix consisting of $N'$ examples $X=\\left[\\begin{matrix}\n",
    "1& x^{(1)}_1& x^{(1)}_2 &\\ldots& x^{(1)}_d\\\\\n",
    "1& x^{(2)}_1& x^{(2)}_2 &\\ldots& x^{(2)}_d\\\\\n",
    "\\vdots & \\vdots &\\vdots & & \\vdots \\\\\n",
    "1& x^{(N')}_1& x^{(N')}_2 &\\ldots& x^{(N')}_d\\\\\n",
    "\\end{matrix}\\right]$\n",
    "and a column vector ${\\bf y}^T=[y^{(1)},y^{(2)},\\dots,y^{(N')}]$ of labels for $X$.\n",
    "\n",
    "The output is $\\ell({\\bf w})$"
   ]
  },
  {
   "cell_type": "code",
   "execution_count": 13,
   "metadata": {},
   "outputs": [],
   "source": [
    "# Write the log likelihood function \n",
    "def log_likelihood(xTrain , yTrain , wCoefficients ): #xTrain?? yTrain??\n",
    "    m = xTrain.shape[0]\n",
    "    hX = hypothesis(xTrain,wCoefficients)\n",
    "    logL = (1/m) * np.sum(yTrain * np.log(hX)+(1-yTrain)*np.log(1-hX))\n",
    "\n",
    "    return logL\n"
   ]
  },
  {
   "cell_type": "markdown",
   "metadata": {},
   "source": [
    "# Gradient Ascent\n",
    "Now write the code to perform gradient ascent.  You will use the update rule from the lecture notes."
   ]
  },
  {
   "cell_type": "code",
   "execution_count": 14,
   "metadata": {},
   "outputs": [],
   "source": [
    "# TODO - Write the gradient ascent function \n",
    "def logisticRegressionGradientAscent(xTrain, yTrain, learnRate, numIterations):\n",
    "    # For every 100 iterations, store the log_likelihood for the current w\n",
    "    # Initializing log_likelihood to be an empty list  \n",
    "    # Initialize w to be a zero vector of shape x_train.shape[1],1\n",
    "    # Initialize N to the number of training examples\n",
    "    \n",
    "    yTrain = yTrain.reshape(yTrain.shape[0], 1)\n",
    "    logLikelihoodValues = []\n",
    "    wCoefficients = np.zeros((xTrain.shape[1],1))\n",
    "    N = xTrain.shape[0]\n",
    "    \n",
    "    for i in range(numIterations):\n",
    "        hX = hypothesis(xTrain,wCoefficients)\n",
    "        gradient = (1/N) * np.dot(xTrain.T, hX-yTrain)\n",
    "        wCoefficients =  wCoefficients - (learnRate*gradient)\n",
    "\n",
    "        if (i%100 == 0):\n",
    "            logLikelihoodValues.append(log_likelihood(xTrain , yTrain , wCoefficients) )\n",
    "\n",
    "\n",
    "    return wCoefficients, logLikelihoodValues"
   ]
  },
  {
   "cell_type": "markdown",
   "metadata": {},
   "source": [
    "### After completing the code above, run the following"
   ]
  },
  {
   "cell_type": "code",
   "execution_count": 15,
   "metadata": {},
   "outputs": [
    {
     "name": "stdout",
     "output_type": "stream",
     "text": [
      "wCoefficients [[-0.6941233 ]\n",
      " [ 0.16140642]\n",
      " [ 0.20834556]\n",
      " [ 0.28733743]\n",
      " [-0.16262661]\n",
      " [-0.34364002]\n",
      " [ 3.3879749 ]\n",
      " [-2.35039744]\n",
      " [-2.6810812 ]\n",
      " [ 1.21778171]\n",
      " [ 0.25294747]\n",
      " [-4.11587187]\n",
      " [ 0.38846146]\n",
      " [-1.59663056]\n",
      " [-2.61265856]\n",
      " [ 0.41368688]\n",
      " [ 1.28026885]\n",
      " [-0.96950496]\n",
      " [-1.21782745]\n",
      " [ 0.26931051]\n",
      " [ 1.15406252]\n",
      " [-1.42666293]\n",
      " [-3.10371887]\n",
      " [-1.06854143]\n",
      " [-1.57831195]\n",
      " [-1.42300936]\n",
      " [ 1.01679151]\n",
      " [-2.20054986]\n",
      " [-1.37958673]\n",
      " [-2.56130243]\n",
      " [-0.45013478]]\n",
      "Log Likelihood Values [-0.22384709162123043, -0.06125042707832265, -0.052883345046471165, -0.04893197156991956, -0.04640511169087769, -0.04454293141363669, -0.04305529344330106, -0.04180627980192731, -0.04072311178954044, -0.03976280846709119, -0.038897963955739225, -0.038109983729356776, -0.037385592339836266, -0.036714908025373305, -0.03609032133815499, -0.03550581005075451, -0.03495650218469742, -0.03443838607041652, -0.03394811085033023, -0.03348284459994891, -0.03304017040410936, -0.0326180082482667, -0.03221455500586959, -0.03182823746912412, -0.031457675019308386, -0.031101649578530018, -0.030759081165356562, -0.03042900783141431, -0.030110569067890013, -0.02980299199027363, -0.029505579767782685, -0.029217701880335276, -0.028938785873323044, -0.028668310347097617, -0.02840579896963985, -0.028150815341208963, -0.02790295857161128, -0.027661859456070005, -0.027427177155978526, -0.02719859630717538, -0.026975824491622412, -0.026758590019137763, -0.026546639974631914, -0.026339738493504725, -0.026137665233794884, -0.025940214018570707, -0.025747191626109715, -0.025558416708786853, -0.02537371882440495, -0.025192937566052977]\n"
     ]
    }
   ],
   "source": [
    "# Set the learning_rate\n",
    "learnRate = 0.5 \n",
    "# Set the num_iters\n",
    "numIterations = 5000\n",
    "# Run the Logistic_Regresion_Gradient_Ascent() and store the returned values\n",
    "wCoefficient, logLikelihoodValue = logisticRegressionGradientAscent(xTrain, yTrain, learnRate, numIterations)\n",
    "print(\"wCoefficients\",wCoefficient)\n",
    "print(\"Log Likelihood Values\",logLikelihoodValue)"
   ]
  },
  {
   "cell_type": "markdown",
   "metadata": {},
   "source": [
    "# Plotting Likelihood v/s Number of Iterations."
   ]
  },
  {
   "cell_type": "code",
   "execution_count": 16,
   "metadata": {},
   "outputs": [
    {
     "data": {
      "image/png": "[encoded data removed]",
      "text/plain": [
       "<Figure size 432x288 with 1 Axes>"
      ]
     },
     "metadata": {
      "needs_background": "light"
     },
     "output_type": "display_data"
    }
   ],
   "source": [
    "# Run this cell to plot Likelihood v/s Number of Iterations.\n",
    "iters = np.array(range(0,numIterations,100))\n",
    "plt.plot(iters,logLikelihoodValue,'.-',color='green')\n",
    "plt.xlabel('Number of iterations')\n",
    "plt.ylabel('Likelihood')\n",
    "plt.title(\"Likelihood vs Number of Iterations.\")\n",
    "plt.grid()"
   ]
  },
  {
   "cell_type": "markdown",
   "metadata": {},
   "source": [
    "#  Evaluating your model"
   ]
  },
  {
   "cell_type": "code",
   "execution_count": 17,
   "metadata": {},
   "outputs": [],
   "source": [
    "# use hypothesis(...) to predict.\n",
    "\n",
    "yPred = hypothesis(xTest,wCoefficient)\n"
   ]
  },
  {
   "cell_type": "code",
   "execution_count": 18,
   "metadata": {},
   "outputs": [
    {
     "name": "stdout",
     "output_type": "stream",
     "text": [
      "Precision:  0.9578947368421052\n",
      "Recall:  0.9578947368421052\n",
      "F1:  0.9578947368421052\n",
      "Confusion Matrix: \n",
      "TP:  91  FN:  4  FP:  4  TN:  44\n"
     ]
    }
   ],
   "source": [
    "TP=0\n",
    "FP=0\n",
    "FN=0\n",
    "TN=0\n",
    "\n",
    "for i in range(yTest.shape[0]):\n",
    "    if yTest[i] == 0:\n",
    "        if yPred[i] < 0.5: TN+=1\n",
    "        else: FP+=1\n",
    "    else:\n",
    "        if yPred[i] >= 0.5: TP += 1\n",
    "        else: FN += 1\n",
    "\n",
    "recallVal = TP/(TP+FN)\n",
    "precisionVal = TP/(TP+FP)\n",
    "fOneVal = (2*precisionVal*recallVal)/(precisionVal + recallVal)\n",
    "\n",
    "print(\"Precision: \",precisionVal)\n",
    "print(\"Recall: \",recallVal)\n",
    "print(\"F1: \",fOneVal)\n",
    "print(\"Confusion Matrix: \")\n",
    "print(\"TP: \",TP,\" FN: \",FN,\" FP: \",FP,\" TN: \",TN)\n"
   ]
  },
  {
   "cell_type": "code",
   "execution_count": null,
   "metadata": {},
   "outputs": [],
   "source": []
  },
  {
   "cell_type": "code",
   "execution_count": null,
   "metadata": {},
   "outputs": [],
   "source": []
  },
  {
   "cell_type": "code",
   "execution_count": null,
   "metadata": {},
   "outputs": [],
   "source": []
  },
  {
   "cell_type": "code",
   "execution_count": null,
   "metadata": {},
   "outputs": [],
   "source": []
  }
 ],
 "metadata": {
  "kernelspec": {
   "display_name": "Python 3",
   "language": "python",
   "name": "python3"
  },
  "language_info": {
   "codemirror_mode": {
    "name": "ipython",
    "version": 3
   },
   "file_extension": ".py",
   "mimetype": "text/x-python",
   "name": "python",
   "nbconvert_exporter": "python",
   "pygments_lexer": "ipython3",
   "version": "3.7.3"
  }
 },
 "nbformat": 4,
 "nbformat_minor": 2
}
